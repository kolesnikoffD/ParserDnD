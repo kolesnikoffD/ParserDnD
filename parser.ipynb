{
 "cells": [
  {
   "cell_type": "code",
   "execution_count": 14,
   "id": "3ebc1f76-0624-4d35-bf78-4afface36f17",
   "metadata": {},
   "outputs": [],
   "source": [
    "import os\n",
    "import requests\n",
    "from bs4 import BeautifulSoup\n",
    "import pandas as pd\n",
    "import numpy as np\n",
    "import time"
   ]
  },
  {
   "cell_type": "code",
   "execution_count": 2,
   "id": "5378565a-b3ae-44b8-9796-bcd2439d1370",
   "metadata": {},
   "outputs": [],
   "source": [
    "# Получение списка ссылок\n",
    "\n",
    "URL=\"https://dnd.su/bestiary/\"\n",
    "\n",
    "response = requests.get(URL)\n",
    "\n",
    "if response.status_code == 200:\n",
    "\n",
    "    # Парсим HTML при помощи Beautiful Soup\n",
    "    soup = BeautifulSoup(response.text, 'html.parser')\n",
    "\n",
    "bestiary_href = []\n",
    "\n",
    "for data in soup.findAll('a', class_='list-item-wrapper'):\n",
    "    bestiary_href.append(\"https://dnd.su\"+data['href'])\n"
   ]
  },
  {
   "cell_type": "code",
   "execution_count": 3,
   "id": "c1cd46e0-e2ea-4e93-8dcf-457708d87594",
   "metadata": {},
   "outputs": [],
   "source": [
    "# Функция парсинга HTML страницы бестиария\n",
    "\n",
    "def bestiary_parser(card, count, url):\n",
    "\n",
    "    # Пустой фрейм\n",
    "    df = pd.DataFrame([],columns=['id','name', 'link', 'immunity_condition', \n",
    "                                  'immunity_damage','def','hits','habitat','exp',\n",
    "                                  'speed','resist','saving','debility', 'languages',\n",
    "                                  'feels', 'skill_bonus', 'source','strength', 'dexterity',\n",
    "                                  'constitution', 'intelligence', 'wisdom', 'charisma', 'brief_inf'])\n",
    "    \n",
    "    try: # try вне цикла т.к. ошибка вознивает в findAll()\n",
    "        #Цикл по всем \"li\" с нахождением нужного текста\n",
    "        for card_params in card.findAll('li', class_=''):\n",
    "    \n",
    "            if 'Класс Доспеха' in card_params.find('strong').text:\n",
    "                number = ''.join(c if c.isdigit() else ' ' for c in card_params.text).split()\n",
    "                df.at[count, 'def'] = int(number[0])\n",
    "                \n",
    "            if 'Бонус мастерства' in card_params.find('strong').text:\n",
    "                df.at[count, 'skill_bonus'] = card_params.text.replace('Бонус мастерства ', '')\n",
    "    \n",
    "            if 'Чувства' in card_params.find('strong').text:\n",
    "                df.at[count, 'feels'] = card_params.text.replace('Чувства ', '')\n",
    "    \n",
    "            if 'Языки' in card_params.find('strong').text:\n",
    "                df.at[count, 'languages'] = card_params.text.replace('Языки ', '')\n",
    "    \n",
    "            if 'Иммунитет к состоянию' in card_params.find('strong').text:\n",
    "                df.at[count, 'immunity_condition']  = card_params.text.replace('Иммунитет к состоянию ', '')\n",
    "    \n",
    "            if 'Иммунитет к урону' in card_params.find('strong').text:\n",
    "                df.at[count, 'immunity_damage']  = card_params.text.replace('Иммунитет к урону ', '')\n",
    "    \n",
    "            if 'Хиты' in card_params.find('strong').text:\n",
    "                df.at[count, 'hits'] = card_params.text.replace('Хиты ', '')\n",
    "    \n",
    "            if 'Местность обитания' in card_params.find('strong').text:\n",
    "                df.at[count, 'habitat'] = card_params.text.replace('Местность обитания ', '')\n",
    "    \n",
    "            if 'Опасность' in card_params.find('strong').text:\n",
    "                df.at[count, 'exp'] = card_params.text.replace('Опасность ', '')\n",
    "    \n",
    "            if 'Скорость' in card_params.find('strong').text:\n",
    "                df.at[count, 'speed'] = card_params.text.replace('Скорость ', '')\n",
    "    \n",
    "            if 'Сопротивление урону' in card_params.find('strong').text:\n",
    "                df.at[count, 'resist'] = card_params.text.replace('Сопротивление урону ', '')\n",
    "    \n",
    "            if 'Спасброски' in card_params.find('strong').text:\n",
    "                df.at[count, 'saving'] = card_params.text.replace('Спасброски ', '')\n",
    "    \n",
    "            if 'Уязвимость к урону' in card_params.find('strong').text:\n",
    "                df.at[count, 'debility'] = card_params.text.replace('Уязвимость к урону ', '')\n",
    "    \n",
    "            if 'Источник:' in card_params.find('strong').text:\n",
    "                df.at[count, 'source'] = card_params.text.replace('Источник: ', '')\n",
    "                break\n",
    "    \n",
    "            if 'Источники:' in card_params.find('strong').text:\n",
    "                df.at[count, 'source'] = card_params.text.replace('Источники: ', '')\n",
    "                break\n",
    "                    \n",
    "    except Exception as e: \n",
    "        print(f'id={count+1} Ошибка {e}')\n",
    "\n",
    "    df.at[count, 'id'] = count+1\n",
    "    df.at[count, 'name'] = card.find('h2', class_='card-title').text\n",
    "    df.at[count, 'link'] = url\n",
    "    df.at[count, 'brief_inf'] = card.find('li', class_='size-type-alignment').text\n",
    "        \n",
    "    #Статы       \n",
    "    for stats in card.findAll('div', class_='stat'):\n",
    "        number = ''.join(c if c.isdigit() else ' ' for c in stats.text).split()\n",
    "        number[0]=int(number[0])\n",
    "        #Отрицательные числа\n",
    "        if number[0]<=9:\n",
    "           number[1]=-int(number[1])\n",
    "        else: number[1]=int(number[1])\n",
    "        if 'Сил' in stats.text:\n",
    "            df.at[count, 'strength'] = number\n",
    "        if 'Лов' in stats.text:\n",
    "            df.at[count, 'dexterity'] = number\n",
    "        if 'Тел' in stats.text:\n",
    "            df.at[count, 'constitution'] = number\n",
    "        if 'Инт' in stats.text:\n",
    "            df.at[count, 'intelligence'] = number\n",
    "        if 'Мдр' in stats.text:\n",
    "            df.at[count, 'wisdom'] = number\n",
    "        if 'Хар' in stats.text:\n",
    "            df.at[count, 'charisma'] = number\n",
    "\n",
    "    return df\n"
   ]
  },
  {
   "cell_type": "code",
   "execution_count": 7,
   "id": "f523c48a-51ef-45a2-9c9a-bc38a940fc3b",
   "metadata": {},
   "outputs": [],
   "source": [
    "# Функция возвращающая HTML страницы бестиария\n",
    "\n",
    "def get_bestiary_html(url):\n",
    "    \n",
    "    response = requests.get(url)\n",
    "    \n",
    "    if response.status_code == 200:\n",
    "        soup = BeautifulSoup(response.text, 'html.parser')\n",
    "        return soup.find('div', class_='cards-wrapper')\n",
    "    else: return 0    \n"
   ]
  },
  {
   "cell_type": "code",
   "execution_count": 5,
   "id": "0d730394-5d90-4676-9543-14c76cbea4d9",
   "metadata": {},
   "outputs": [],
   "source": [
    "# Создание пустого фрейма для бестиария\n",
    "\n",
    "bestiary_df = pd.DataFrame([],columns=['id','name', 'link', 'immunity_condition', \n",
    "                                  'immunity_damage','def','hits','habitat','exp',\n",
    "                                  'speed','resist','saving','debility', 'languages',\n",
    "                                  'feels', 'skill_bonus', 'source','strength', 'dexterity',\n",
    "                                  'constitution', 'intelligence', 'wisdom', 'charisma', 'brief_inf'])\n"
   ]
  },
  {
   "cell_type": "code",
   "execution_count": 8,
   "id": "6bc4aae6-961d-4519-ba2b-d4b9d3be6c0e",
   "metadata": {},
   "outputs": [
    {
     "name": "stdout",
     "output_type": "stream",
     "text": [
      "id=1150 Ошибка 'NoneType' object has no attribute 'findAll'\n"
     ]
    }
   ],
   "source": [
    "# Цикл для заполнение фрейма бестиария\n",
    "\n",
    "count=0\n",
    "\n",
    "for url in bestiary_href:\n",
    "    try:\n",
    "        card= get_bestiary_html(url)\n",
    "        bestiary_df = pd.concat([bestiary_df, bestiary_parser(card, count, url)], ignore_index=True)\n",
    "    except:\n",
    "        time.sleep(10)\n",
    "        card= get_bestiary_html(url)\n",
    "        bestiary_df = pd.concat([bestiary_df, bestiary_parser(card, count, url)], ignore_index=True)\n",
    "\n",
    "    count+=1"
   ]
  },
  {
   "cell_type": "code",
   "execution_count": 28,
   "id": "794e56d7-4ff9-40d4-b1f7-97d351a49e64",
   "metadata": {},
   "outputs": [],
   "source": [
    "# сохранение данных\n",
    "bestiary_df.to_csv('Data/bestiary.csv', index=False)"
   ]
  },
  {
   "cell_type": "code",
   "execution_count": 29,
   "id": "32517787-8d78-437b-be73-71d4a4de406d",
   "metadata": {},
   "outputs": [],
   "source": [
    "# загрузка данных для проверки\n",
    "bestiary_df = pd.read_csv('Data/bestiary.csv')"
   ]
  },
  {
   "cell_type": "code",
   "execution_count": 30,
   "id": "77544538-1777-4ab1-99f0-3cfbe8baa2cf",
   "metadata": {},
   "outputs": [
    {
     "name": "stdout",
     "output_type": "stream",
     "text": [
      "Фрейм соответствует по длине\n",
      "\n",
      "Дубли строк отсутсвуют\n",
      "\n",
      "Нулевые имена отсутствуют\n",
      "\n"
     ]
    }
   ],
   "source": [
    "# Проверка данных\n",
    "\n",
    "if len(bestiary_href) == len(bestiary_df): # Проверка длины фрейма и длины списка ссылок\n",
    "    print('Фрейм соответствует по длине\\n')\n",
    "\n",
    "duplicates_series = bestiary_df.duplicated().value_counts()\n",
    "\n",
    "if duplicates_series[duplicates_series.index == False].iloc[0] == len(bestiary_df): # Проверка на дублирующие строки\n",
    "    print('Дубли строк отсутсвуют\\n')\n",
    "else: print('Дубли строк присутствуют\\n')\n",
    "\n",
    "none_series = bestiary_df['name'].isna().value_counts()\n",
    "\n",
    "if none_series[none_series.index == False].iloc[0] == len(bestiary_df): # Проверка на нулевые имена\n",
    "    print('Нулевые имена отсутствуют\\n')\n",
    "else: print('Нулевые имена присутствуют\\n')\n"
   ]
  }
 ],
 "metadata": {
  "kernelspec": {
   "display_name": "Python 3 (ipykernel)",
   "language": "python",
   "name": "python3"
  },
  "language_info": {
   "codemirror_mode": {
    "name": "ipython",
    "version": 3
   },
   "file_extension": ".py",
   "mimetype": "text/x-python",
   "name": "python",
   "nbconvert_exporter": "python",
   "pygments_lexer": "ipython3",
   "version": "3.12.4"
  }
 },
 "nbformat": 4,
 "nbformat_minor": 5
}
